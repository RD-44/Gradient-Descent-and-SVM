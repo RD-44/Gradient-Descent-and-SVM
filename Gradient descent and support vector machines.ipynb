{
 "cells": [
  {
   "cell_type": "markdown",
   "metadata": {
    "collapsed": false
   },
   "source": [
    "# Important - do this first!\n",
    "\n",
    "**Double click here and enter the student numbers for all group members. Do not enter any names.**\n",
    "\n",
    "1. (student number)\n",
    "2. (student number)\n",
    "3. (student number)\n",
    "4. (student number)\n",
    "\n",
    "Now **[click on this link and read the MATH0011 project instructions.](https://www.ucl.ac.uk/~ucahmto/0011/project-instructions.html)**\n",
    "\n"
   ]
  },
  {
   "cell_type": "code",
   "execution_count": 0,
   "metadata": {
    "collapsed": false
   },
   "outputs": [
   ],
   "source": [
   ]
  },
  {
   "cell_type": "markdown",
   "metadata": {
    "collapsed": false
   },
   "source": [
    "In this project you will implement your own version of one of the most fundamental optimization algorithms, [gradient descent](https://en.wikipedia.org/wiki/Gradient_descent), test it out on some example functions, and create a visualisation of the result.  After that you'll use one of the optimizers built in to the [`scipy`](https://scipy.org/) module to implement a commonly-used machine learning model called the support vector machine, and again visualise the results on some simulated data.\n",
    "\n",
    "The project is a good fit for people interested in artificial intelligence/machine learning. There is some flexibility in how to store the data you are generating and working with, so you will also gain experience of choosing appropriate representations (and probably learn why certain bad choices are not so good).  Don't be afraid to go back and change the code you have already written if you begin to regret the decisions you made earlier.  There is quite a bit of code to write, but you will certainly learn some useful things.\n",
    "\n"
   ]
  },
  {
   "cell_type": "markdown",
   "metadata": {
    "collapsed": false
   },
   "source": [
    "# Part 1 - gradient descent and ascent\n",
    "\n",
    "Gradient ascent and descent are algorithms for finding [local minimums and maximums](https://www.mathsisfun.com/algebra/functions-maxima-minima.html) of a differentiable function of several variables.  In this part you will implement a simple version of gradient descent for functions $F : \\mathbb{R}^2 \\to \\mathbb{R}$ and learn how to create plots that demonstrate the behaviour of the algorithm using `matplotlib` and NumPy.\n",
    "\n",
    "First we need some definitions. The **gradient** of a function $F : \\mathbb{R}^2 \\to \\mathbb{R}$, written $\\nabla F$, is the function $\\nabla F : \\mathbb{R}^2 \\to \\mathbb{R}^2$ given by \n",
    "\n",
    "$$ \\nabla F (\\mathbf{v}) = \\begin{pmatrix} \\frac{\\partial F}{\\partial x} (\\mathbf{v}) \\\\ \\frac{\\partial F}{\\partial y}(\\mathbf{v})\\end{pmatrix} $$\n",
    "\n",
    "where $\\frac{\\partial F}{\\partial x} (\\mathbf{v})$ is the [partial derivative](https://en.wikipedia.org/wiki/Partial_derivative) defined by\n",
    "\n",
    "$$ \\frac{\\partial F}{\\partial x} (v_1, v_2) = \\lim_{h\\to 0} \\frac{F(v_1+h, v_2) - F(v_1, v_2)}{h} $$ \n",
    "\n",
    "and $\\frac{\\partial F}{\\partial y}$ is defined similarly.\n",
    "\n",
    "For example, if $F(x, y) = xy + x^2 + 2y + 3$ then \n",
    "\n",
    "$$\\frac{\\partial F}{\\partial x} (x, y) = y + 2x \\;\\;\\;\\; \\frac{\\partial F}{\\partial y}(x,y) = x + 2$$\n",
    "\n",
    "so $\\nabla F (x, y) = \\begin{pmatrix} y+2x \\\\ x+2 \\end{pmatrix}$.\n",
    "\n",
    "The significance of the gradient is that at a point $\\mathbf{v} \\in \\mathbb{R}^2$, the direction in which $F$ increases fastest is $\\nabla F( \\mathbf{v})$ and the direction in which $F$ decreases fastest is $-\\nabla F(\\mathbf{v})$.  You'll learn more about this after reading week in MATH0011.\n",
    "\n",
    "The gradient gives us a simple way of looking for a local maximum of a function $F: \\mathbb{R}^2 \\to \\mathbb{R}$. Pick some point $\\mathbf{a}_0$ to start off at, then move a small distance in the direction of $\\nabla F( \\mathbf{a}_0)$, taking you to a new point $\\mathbf{a}_1$ with a bigger value of $F$, then move a small distance in the direction of $\\nabla F(\\mathbf{a}_1)$ to a new point $\\mathbf{a}_2$, and so on.  This is gradient ascent.  (To see how the method works, imagine you are standing somewhere on a foggy mountain and want to climb to the top.  If you keep walking in the steepest uphill direction you can find, you may eventually get to the top, as long as there is only one peak).  To find a local minimum value of $F$ we can do the same thing except we move in the direction $- \\nabla F$, since this is the direction in which $F$ decreases fastest - this is gradient *de*scent.\n",
    "\n",
    "**Write a function `approx_grad(f, v, h)` which returns an approximation to the gradient of the function `f` at the point `v` using a change in x and y of `h`.**\n",
    "\n",
    "`f` will be a function of two variables and `v` will be a list `[a, b]` or a NumPy array giving the coordinates of the point at which you will approximate the gradient of `f`.\n",
    "\n",
    "**Your function must return a tuple of length 2** (or a NumPy array, if it makes your code easier to use) whose first element is\n",
    "\n",
    "$$\\frac{f(a+h, b) - f(a, b)}{h} $$\n",
    "\n",
    "which is an approximation of $\\frac{\\partial f}{\\partial x}(a, b)$, and whose second element is\n",
    "\n",
    "$$\\frac{f(a, b+h) - f(a, b)}{h} $$\n",
    "\n",
    "which is an approximation of $\\frac{\\partial f}{\\partial y}(a, b)$."
   ]
  },
  {
   "cell_type": "code",
   "execution_count": 4,
   "metadata": {
    "collapsed": false
   },
   "outputs": [
   ],
   "source": [
    "def approx_grad(f, v, h):\n",
    "    a = v[0]\n",
    "    b = v[1]\n",
    "    dx = (f(a+h,b) - f(a,b))/h\n",
    "    dy = (f(a,b+h) - f(a,b))/h\n",
    "    return (dx, dy)"
   ]
  },
  {
   "cell_type": "markdown",
   "metadata": {
    "collapsed": false
   },
   "source": [
    "**Check your approximation** for the function $F(x, y) = xy + x^2 + 2y + 3$ by comparing it to the partial derivatives given above.  Try values of `x` and `y` between `-3` and `3` and experiment to see how `h` affects how close the approximation is to the true value."
   ]
  },
  {
   "cell_type": "code",
   "execution_count": 7,
   "metadata": {
    "collapsed": false
   },
   "outputs": [
    {
     "ename": "TypeError",
     "evalue": "unsupported operand type(s) for -: 'NoneType' and 'NoneType'",
     "output_type": "error",
     "traceback": [
      "\u001b[0;31m---------------------------------------------------------------------------\u001b[0m",
      "\u001b[0;31mTypeError\u001b[0m                                 Traceback (most recent call last)",
      "\u001b[0;32m/tmp/ipykernel_227/926689101.py\u001b[0m in \u001b[0;36m<cell line: 4>\u001b[0;34m()\u001b[0m\n\u001b[1;32m      2\u001b[0m     \u001b[0mx\u001b[0m\u001b[0;34m*\u001b[0m\u001b[0my\u001b[0m \u001b[0;34m+\u001b[0m \u001b[0mx\u001b[0m\u001b[0;34m**\u001b[0m\u001b[0;36m2\u001b[0m \u001b[0;34m+\u001b[0m \u001b[0;36m2\u001b[0m\u001b[0;34m*\u001b[0m\u001b[0my\u001b[0m \u001b[0;34m+\u001b[0m \u001b[0;36m3\u001b[0m\u001b[0;34m\u001b[0m\u001b[0;34m\u001b[0m\u001b[0m\n\u001b[1;32m      3\u001b[0m \u001b[0;34m\u001b[0m\u001b[0m\n\u001b[0;32m----> 4\u001b[0;31m \u001b[0mapprox_grad\u001b[0m\u001b[0;34m(\u001b[0m\u001b[0;32mlambda\u001b[0m \u001b[0mx\u001b[0m\u001b[0;34m,\u001b[0m \u001b[0my\u001b[0m \u001b[0;34m:\u001b[0m \u001b[0mf\u001b[0m\u001b[0;34m(\u001b[0m\u001b[0mx\u001b[0m\u001b[0;34m,\u001b[0m\u001b[0my\u001b[0m\u001b[0;34m)\u001b[0m \u001b[0;34m,\u001b[0m \u001b[0;34m[\u001b[0m\u001b[0;34m-\u001b[0m\u001b[0;36m3\u001b[0m\u001b[0;34m,\u001b[0m \u001b[0;36m3\u001b[0m\u001b[0;34m]\u001b[0m\u001b[0;34m,\u001b[0m \u001b[0;36m0.1\u001b[0m\u001b[0;34m)\u001b[0m\u001b[0;34m\u001b[0m\u001b[0;34m\u001b[0m\u001b[0m\n\u001b[0m",
      "\u001b[0;32m/tmp/ipykernel_227/298287187.py\u001b[0m in \u001b[0;36mapprox_grad\u001b[0;34m(f, v, h)\u001b[0m\n\u001b[1;32m      2\u001b[0m     \u001b[0ma\u001b[0m \u001b[0;34m=\u001b[0m \u001b[0mv\u001b[0m\u001b[0;34m[\u001b[0m\u001b[0;36m0\u001b[0m\u001b[0;34m]\u001b[0m\u001b[0;34m\u001b[0m\u001b[0;34m\u001b[0m\u001b[0m\n\u001b[1;32m      3\u001b[0m     \u001b[0mb\u001b[0m \u001b[0;34m=\u001b[0m \u001b[0mv\u001b[0m\u001b[0;34m[\u001b[0m\u001b[0;36m1\u001b[0m\u001b[0;34m]\u001b[0m\u001b[0;34m\u001b[0m\u001b[0;34m\u001b[0m\u001b[0m\n\u001b[0;32m----> 4\u001b[0;31m     \u001b[0mdx\u001b[0m \u001b[0;34m=\u001b[0m \u001b[0;34m(\u001b[0m\u001b[0mf\u001b[0m\u001b[0;34m(\u001b[0m\u001b[0ma\u001b[0m\u001b[0;34m+\u001b[0m\u001b[0mh\u001b[0m\u001b[0;34m,\u001b[0m\u001b[0mb\u001b[0m\u001b[0;34m)\u001b[0m \u001b[0;34m-\u001b[0m \u001b[0mf\u001b[0m\u001b[0;34m(\u001b[0m\u001b[0ma\u001b[0m\u001b[0;34m,\u001b[0m\u001b[0mb\u001b[0m\u001b[0;34m)\u001b[0m\u001b[0;34m)\u001b[0m\u001b[0;34m/\u001b[0m\u001b[0mh\u001b[0m\u001b[0;34m\u001b[0m\u001b[0;34m\u001b[0m\u001b[0m\n\u001b[0m\u001b[1;32m      5\u001b[0m     \u001b[0mdy\u001b[0m \u001b[0;34m=\u001b[0m \u001b[0;34m(\u001b[0m\u001b[0mf\u001b[0m\u001b[0;34m(\u001b[0m\u001b[0ma\u001b[0m\u001b[0;34m,\u001b[0m\u001b[0mb\u001b[0m\u001b[0;34m+\u001b[0m\u001b[0mh\u001b[0m\u001b[0;34m)\u001b[0m \u001b[0;34m-\u001b[0m \u001b[0mf\u001b[0m\u001b[0;34m(\u001b[0m\u001b[0ma\u001b[0m\u001b[0;34m,\u001b[0m\u001b[0mb\u001b[0m\u001b[0;34m)\u001b[0m\u001b[0;34m)\u001b[0m\u001b[0;34m/\u001b[0m\u001b[0mh\u001b[0m\u001b[0;34m\u001b[0m\u001b[0;34m\u001b[0m\u001b[0m\n\u001b[1;32m      6\u001b[0m     \u001b[0;32mreturn\u001b[0m \u001b[0;34m(\u001b[0m\u001b[0mdx\u001b[0m\u001b[0;34m,\u001b[0m \u001b[0mdy\u001b[0m\u001b[0;34m)\u001b[0m\u001b[0;34m\u001b[0m\u001b[0;34m\u001b[0m\u001b[0m\n",
      "\u001b[0;31mTypeError\u001b[0m: unsupported operand type(s) for -: 'NoneType' and 'NoneType'"
     ]
    }
   ],
   "source": [
    "def f(x, y):\n",
    "    x*y + x**2 + 2*y + 3\n",
    "    \n",
    "approx_grad(lambda x, y : f(x,y) , [-3, 3], 0.1)"
   ]
  },
  {
   "cell_type": "markdown",
   "metadata": {
    "collapsed": false
   },
   "source": [
    "The gradient descent algorithm for a function $f : \\mathbb{R}^2 \\to \\mathbb{R}$ that you are going to implement begins with a point $\\mathbf{a}_0 \\in \\mathbb{R}^2$ and produces a sequence defined by\n",
    "\n",
    "$$ \\mathbf{a}_{i+1} \\approx \\mathbf{a}_i - k \\nabla f (\\mathbf{a}_i) $$\n",
    "\n",
    "where $k$ is a fixed small positive number called the *step size*. The reason I have written $\\approx$ and not $=$ is that you are going to use your `approx_grad` function to obtain an approximation to $\\nabla f(\\mathbf{a}_i)$ in place of the actual gradient.\n",
    "\n",
    "**Write a function `gradient_descent_sequence(f, a0, k, h, N)`** which behaves as follows.\n",
    "\n",
    " - `f` is a function of two variables\n",
    " - `a0` is a list of length 2 containing the x and y coordinates of the starting point of the gradient descent algorithm\n",
    " - `k` is the step size, as above\n",
    " - `h` is the change in x and y used to calculate an approximation to the gradient, which you will pass to your function from part 1\n",
    " - `N` specifies the number of terms of the gradient descent sequence after `a0` to be calculated\n",
    " \n",
    "**The output of your function should be a tuple of two lists of numbers**, the first list being the x-coordinates of the sequence $\\mathbf{a}_0, \\mathbf{a}_1, \\ldots, \\mathbf{a}_{N}$ and the second list being the y-coordinates.  Again, you can use arrays instead of tuples and lists if you prefer."
   ]
  },
  {
   "cell_type": "code",
   "execution_count": 0,
   "metadata": {
    "collapsed": false
   },
   "outputs": [
   ],
   "source": [
    "def gradient_descent_sequence(f, a0, k, h, N):\n",
    "    # your code here"
   ]
  },
  {
   "cell_type": "markdown",
   "metadata": {
    "collapsed": false
   },
   "source": [
    "# Part 2 - plotting the gradient descent sequences\n",
    "\n",
    "**Calculate the gradient descent sequence** for the function $g(x, y) = x^2 + 2y^2$ starting at $(1, -1)$ with `N = 10`, `k = 0.2`, `h = 0.1`, then **plot the points in the gradient descent sequence** using the `matplotlib.pyplot` function `plot` .  The function has its minimum at $(0, 0)$, so you should see the line tending towards the origin.\n",
    "\n",
    "To make your plot look better, you may want to experiment with the `linewidth` parameter to the `plot` command\n",
    "\n",
    "```python\n",
    "plt.plot(xs, ys, 'r-', linewidth=0.5)\n",
    "```\n",
    "and to use `plt.xlim()` and `plt.ylim()` to control the range of x-coordinates and y-coordinates which are plotted. [This link](https://stackabuse.com/how-to-set-axis-range-xlim-ylim-in-matplotlib/) has some examples on the use of `xlim` and `ylim`."
   ]
  },
  {
   "cell_type": "code",
   "execution_count": 1,
   "metadata": {
    "collapsed": false
   },
   "outputs": [
   ],
   "source": [
    "# plotting code goes here"
   ]
  },
  {
   "cell_type": "markdown",
   "metadata": {
    "collapsed": false
   },
   "source": [
    "The plot above isn't very satisfying.  It would be better if you could see both the points of the gradient descent sequence and a visual representation of the function whose minimum you are looking for on the same axes, so that you can see what the gradient ascent/descent algorithm is doing.   Since you are working with functions $f : \\mathbb{R}^2 \\to \\mathbb{R}$ you need to indicate the value of $f$ at the point $(x, y)$ in some way.  In this part you will use `matplotlib`'s functions `contour` and `contourf` to make a plot that uses colours and contours to indicate the value of a function $f$ at the point $(x, y) \\in \\mathbb{R}^2$.\n",
    "\n",
    "Start by reading [the Wikipedia article on contour lines](https://en.wikipedia.org/wiki/Contour_line) until you understand what a contour plot is.\n",
    "\n",
    "The `contour` function from `matplotlib.pyplot` is used in a similar way to the `plot` command, except that you must supply lists or numpy arrays of the x-coordinates, y-coordinates, and z-coordinates for your plot.  Luckily NumPy has functions which make this a lot easier.  We will keep things by simple by choosing x-coordinates and y-coordinates on a rectangular grid - for example, if the x-values are 1, 2, 3 and the y-values are 4, 5, 6 then the grid points would be at (1, 4), (1, 5), (1, 6), (2, 4), (2, 5), (2, 6), (3, 4), (3, 5), (3, 6).\n",
    "\n",
    "First, produce arrays of the x-values and y-values using `np.linspace`:\n",
    "\n",
    "```python\n",
    "x_grid_values = np.linspace(-5, 5, 100)\n",
    "y_grid_values = np.linspace(-5, 5, 100)\n",
    "```\n",
    "\n",
    "The numpy function `meshgrid` will assemble these into arrays containing all of the x- and y-coordinates we need for the plot.\n",
    "\n",
    "```python\n",
    "xs, ys = np.meshgrid(x_grid_values, y_grid_values)\n",
    "```\n",
    "\n",
    "Next, get the z-value for each of the gridpoints.  You could do this using some for loops, but again there is a numpy function to make it easy: if `g(x, y)` is a two-variable function which we want to apply to every one of our grid points, then `np.vectorize(g)` is a new function which can be applied to `xs` and `ys` to give the array of z-coordinates we need.\n",
    "\n",
    "```python\n",
    "zs = np.vectorize(g)(xs, ys)\n",
    "```\n",
    "\n",
    "Having prepared the x-, y-, and z-coordinates you can now just call `plt.contour(xs, ys, zs)` or `plt.contourf(xs, ys, zs)` to produce our contour plots.  You can experiment with `plt.contour(xs, ys, zs, levels=N)` where `N` is an integer to control how many contours are plotted.  Other ways to get the plot looking good are:\n",
    "\n",
    " - try `plt.axis('scaled')` to adjust scaling of the axes\n",
    " - calling `plt.colorbar()` shows how values of the function correspond to colours in the plot\n",
    " - read about colourmaps [here](https://matplotlib.org/stable/tutorials/colors/colormaps.html) and then try `plt.contour(xs, ys, zs, levels=N, cmap=plt.get_cmap('turbo'))` for example.\n",
    " \n",
    "**Following the instructions above, produce a `contour` or `contourf` plot of the function `g` defined below using values of `x` and `y` between -5 and 5.**  Include a colourbar in your plot, and experiment with parameter values to get the plot looking as good as possible."
   ]
  },
  {
   "cell_type": "code",
   "execution_count": 0,
   "metadata": {
    "collapsed": false
   },
   "outputs": [
   ],
   "source": [
    "def g(x, y):\n",
    "    return ((x**2 + y -11)**2 + (x+y**2 - 6)**2)"
   ]
  },
  {
   "cell_type": "code",
   "execution_count": 0,
   "metadata": {
    "collapsed": false
   },
   "outputs": [
   ],
   "source": [
    "# make the contour plot of g here"
   ]
  },
  {
   "cell_type": "markdown",
   "metadata": {
    "collapsed": false
   },
   "source": [
    "Finally, **use `contourf` to plot the function `g` above** and on the same plot, **use `plot` to show the points generated by `gradientDescentSequence` starting at (0, -3)**, adjusting `h`, `k`, and `N` so that they converge to one of the local minimums.  Indicate the starting point (0, -3) on the plot somehow and choose plotting colours and a colour map so that it is easy to see what is happening in the plot.\n",
    "\n",
    "You should see the gradient descent sequence going into one of the dark coloured holes on the plot (if you use the `turbo` colour map)."
   ]
  },
  {
   "cell_type": "code",
   "execution_count": 0,
   "metadata": {
    "collapsed": false
   },
   "outputs": [
   ],
   "source": [
    "# contour plot and gradient descent sequence here"
   ]
  },
  {
   "cell_type": "markdown",
   "metadata": {
    "collapsed": false
   },
   "source": [
    "# Part 3 - support vector machines\n",
    "\n",
    "The [support vector machine (SVM)](https://en.wikipedia.org/wiki/Support-vector_machine) is a commonly-used machine learning model which uses an optimizer like the gradient descent algorithm you just implemented to help classify data.\n",
    "\n",
    "Suppose you have a collection of elements of $\\mathbb{R}^k$ called *data points*, each of which has a known *type* which is either 1 or -1.  This is called the *training data*.  You want to use these points to generate a *classifier* which, given a new data point, will tell you whether it is most likely to be of type 1 or of type -1.    For example, perhaps the points are derived from images of cats (type 1) and dogs (type -1), and you want to decide whether a new image is of a cat or of a dog.\n",
    "\n",
    "The simplest kind of SVM finds a *hyperplane* (a line in 2D space, a plane in 3D space, and so on) such that, as far as possible, all the type 1 training points are on one side of the hyperplane and all the type -1 training points are on the other side.  Given a new data point we then predict its type by simply checking which side of the hyperplane it lies on.\n",
    "\n",
    "Of course, in general it will not be possible to find any hyperplane that has all the type 1 points on one side and all the type -1 points on the other.  In that case the method finds the \"best\" hyperplane in a sense made precise by the loss function defined later."
   ]
  },
  {
   "attachments": {
    "dots_well_separated.png": {
     "image/png": "[encoded data removed]"
    }
   },
   "cell_type": "markdown",
   "metadata": {
    "collapsed": false
   },
   "source": [
    "**Write a function `generate_random_data(x0, y0, spread, n)` which generates `n` random two-dimensional data points centred at the point $(x_0, y_0)$.** The input `spread` to your function should control how widely spread out the points are around $(x_0, y_0)$: when `spread` is a small number, all data points should be close to $(x_0, y_0)$, and when `spread` is a large number, points should be more spread out.\n",
    "\n",
    "For the randomisation, you could use the `random` module or [`np.random.rand`](https://numpy.org/doc/stable/reference/random/generated/numpy.random.rand.html) or similar Numpy functions.\n",
    "\n",
    "It's up to you how these points are represented: choose whatever you think will be convenient later. You could store each point as a tuple `(x, y)` and return a list of `n` tuples, for example.  Alternatively you could return a list of lists `[x, y]`, or one-dimensional numpy arrays `np.array([x, y])`, or numpy column vectors `np.array([[x], [y]])`, or numpy row vectors `np.array([[x, y]])`, or you could return one big two-dimensional numpy array whose rows (or columns) are the data points.\n",
    "\n",
    "When you've done this, make two plots using `matplotlib.pyplot`. The first plot should show 20 random points generated with your `generate_random_data` function centred at (0, 1) as red dots, and 20 random points centred at (1, 0) as blue dots, with the `spread` parameter chosen so that the dots are tightly clustered.  The second plot should be the same as the first except with the `spread` parameter made larger so that there is some overlap between the two sets of dots.\n",
    "\n",
    "The first plot should look roughly like this:\n",
    "\n",
    "![dots_well_separated.png](attachment:dots_well_separated.png)"
   ]
  },
  {
   "attachments": {
    "dots_close_together.png": {
     "image/png": "[encoded data removed]"
    }
   },
   "cell_type": "markdown",
   "metadata": {
    "collapsed": false
   },
   "source": [
    "and the second should look roughly like this:\n",
    "\n",
    "![dots_close_together.png](attachment:dots_close_together.png)"
   ]
  },
  {
   "cell_type": "code",
   "execution_count": 0,
   "metadata": {
    "collapsed": false
   },
   "outputs": [
   ],
   "source": [
    "def generate_random_data(x0, y0, spread, n):\n",
    "    # your code here"
   ]
  },
  {
   "cell_type": "code",
   "execution_count": 0,
   "metadata": {
    "collapsed": false
   },
   "outputs": [
   ],
   "source": [
    "# use this cell for your first plot, where the spread should be small\n"
   ]
  },
  {
   "cell_type": "code",
   "execution_count": 0,
   "metadata": {
    "collapsed": false
   },
   "outputs": [
   ],
   "source": [
    "# use this cell for your second plot, where the spread is larger\n"
   ]
  },
  {
   "attachments": {
    "dots_well_separated.png": {
     "image/png": "[encoded data removed]"
    }
   },
   "cell_type": "markdown",
   "metadata": {
    "collapsed": false
   },
   "source": [
    "# Part 4 - the SVM loss function\n",
    "\n",
    "Suppose we have *training data* consisting of $n$ vectors $\\mathbf{x}_1, \\ldots, \\mathbf{x}_n \\in \\mathbb{R}^k$ and that each $\\mathbf{x}_i$ has a *type* $y_i$ which is either 1 or -1.  In the following diagram I've coloured the type 1 points red and the type -1 points blue.\n",
    "\n",
    "![dots_well_separated.png](attachment:dots_well_separated.png)\n",
    "\n",
    "We call this data *linearly separable* if there exists a hyperplane such that all the type 1 points are on one side of the hyperplane and all the type -1 points are on the other side.  In the two-dimensional example above, the data is linearly separable: there are many possible straight lines which separate the red and blue dots.\n",
    "\n",
    "When the data is linearly separable we can choose a hyperplane with all the type 1 points above it and all the type -1 points below it. This hyperplane can be used as a classifier: if a new point is on the same side as the type 1 points we will classify the new point as type 1, and if it is on the other side we will classify it as having type -1.\n",
    "\n",
    "Mathematically, the classifier works like this.  Any hyperplane in $\\mathbb{R}^k$ can be written as the set of all points $\\mathbf{x}$ such that $\\mathbf{w}^T \\mathbf{x} = b$, for some vector $\\mathbf{w}$ and some scalar $b$.  The hyperplane divides $\\mathbb{R}^k$ into two pieces: points $\\mathbf{u}$ for which $\\mathbf{w}^T \\mathbf{u} > b$ (above the hyperplane) and points for which $\\mathbf{w}^T\\mathbf{u}  < b$ (below the hyperplane). Assume that the type 1 points $\\mathbf{x}_i$ satisfy $\\mathbf{w}^T \\mathbf{x}_i >b$. In that case, the classifier says that a new point $\\mathbf{u}$ has type 1 if $\\mathbf{w}^T \\mathbf{u} > b$, and that it has type -1 otherwise.\n",
    "\n",
    "As you can see from the diagram above, when data is linearly separable there may be many different hyperplanes which separate the two types of datapoint. The choice of hyperplane affects how the classifier performs, so we must choose it carefully.  One possibility is to use the separating hyperplane with the widest *margin*.  Consider the hyperplane $\\mathbf{w}^T \\mathbf{x} = b$.  There is another, parallel hyperplane $\\mathbf{w}^T \\mathbf{x} = b+1$ above it and another, parallel hyperplane $\\mathbf{w}^T \\mathbf{x} = b-1$ below it.  The area between these is called the margin, and we can then look for the hyperplane that maximises the width of the margin subject to all of the positive and negative datapoints being outside it."
   ]
  },
  {
   "attachments": {
    "margins.png": {
     "image/png": "[encoded data removed]"
    }
   },
   "cell_type": "markdown",
   "metadata": {
    "collapsed": false
   },
   "source": [
    "![margins.png](attachment:margins.png)"
   ]
  },
  {
   "attachments": {
    "margins.svg": {
     "image/svg": "\u0000"
    }
   },
   "cell_type": "markdown",
   "metadata": {
    "collapsed": false
   },
   "source": [
    "The image above shows type 1 data points as + signs and type -1 data points as - signs.  The solid line in the centre is a hyperplane $\\mathbf{w}^T \\mathbf{x} = b$, and the parallel dotted lines either side of it are the boundaries of the margin, whose equations are $\\mathbf{w}^T \\mathbf{x} = b \\pm 1$. The area between the two dotted lines is the margin and its width is the distance from one dotted line to the other.\n",
    "\n",
    "For a vector $\\mathbf{u} = \\begin{pmatrix} u_1 \\\\ \\vdots \\\\ u_k \\end{pmatrix}$ we define $||\\mathbf{u}||$, the length of $\\mathbf{u}$, to be $\\sqrt{\\sum_{i=1}^k u_i^2}$.  It turns out that the width of the margin is equal to $2/||\\mathbf{w}||$, so maximising the width of the margin is equivalent to minimising $||\\mathbf{w}||$ subject to the constraint that all type 1 data points $\\mathbf{x}_+$ satisfy $\\mathbf{w}^T \\mathbf{x}_+ \\geqslant b+1$ (that is, they are above the margin) and all type -1 datapoints $\\mathbf{x}_-$ satisfy $\\mathbf{w}^T \\mathbf{x}_- \\leqslant b - 1$ (that is, they are below the margin).\n",
    "\n",
    "In general the data we work with may not be linearly separable. Consider the example below where as before, type 1 datapoints are red and type -1 datapoints are blue."
   ]
  },
  {
   "attachments": {
    "dots_close_together.png": {
     "image/png": "[encoded data removed]"
    }
   },
   "cell_type": "markdown",
   "metadata": {
    "collapsed": false
   },
   "source": [
    "![dots_close_together.png](attachment:dots_close_together.png)\n",
    "\n",
    "There is no straight line which separates the red and blue dots.  To help us make a classifier, recall that a vector $\\mathbf{u}$ lies above the margin if $\\mathbf{w}^T \\mathbf{u} \\geqslant b + 1$ and below it if $\\mathbf{w}^T \\mathbf{u} \\leqslant b - 1$.  A type 1 point $\\mathbf{x}_i$ is above the margin if $\\mathbf{w}^T\\mathbf{x}_i \\geqslant b+1$, that is, $\\mathbf{w}^T\\mathbf{x}_i - b \\geqslant 1$ and a type -1 point $\\mathbf{x}_i$ is below the margin if $\\mathbf{w}^T \\mathbf{x}_i \\leqslant b - 1$, that is $\\mathbf{w}^T\\mathbf{x}_i -b\\geqslant 1$.  Letting $y_i=1$ if $\\mathbf{x}_i$ is type 1 and $y_i=-1$ if $\\mathbf{x}_i$ is type -1, we can summarise this by saying all data points $\\mathbf{x}_i$ are on the correct side of the margin if and only if all of the inequalities\n",
    "\n",
    "$$ y_i(\\mathbf{w}^T \\mathbf{x}_i -b) \\geq 1$$\n",
    "\n",
    "are true, or equivalently, if $1-y_i(\\mathbf{w}^T \\mathbf{x}_i - b) \\leq 0$ for all $i$. Thus the sum\n",
    "\n",
    "$$ \\sum_{i=1}^n \\max(0, 1-y_i(\\mathbf{w}^T \\mathbf{x}_i - b)) $$\n",
    "\n",
    "is a nonnegative quantity that is zero if all data points are on the correct sides of the margins $\\mathbf{w}^T \\mathbf{x}  =b \\pm 1$ and which gets bigger as points get further away from the correct side of the margin.  This is called the [hinge loss](https://en.wikipedia.org/wiki/Hinge_loss)\n",
    "\n",
    "The SVM classifier then needs to make a tradeoff between making $||\\mathbf{w}||$ small and making $$ \\sum_{i=1}^n \\max(0, 1-y_i(\\mathbf{w}^T \\mathbf{x}_i - b)) $$ small so that points are close to being on the right side of the margins.  It does this by choosing a constant $\\lambda$ and minimizing the **loss function**\n",
    "\n",
    "$$\\lambda ||\\mathbf{w}||^2 + \\frac{1}{n}\\sum_{i=1}^n \\max(0, 1-y_i(\\mathbf{w}^T \\mathbf{x}_i - b)).$$\n",
    "\n",
    "The parameter $\\lambda$ determines the tradeoff between margin size and classification error.  If we don't mind having a small margin but hate having points on the wrong side of the margin we make $\\lambda$ small; if we absolutely must have a big margin but don't care about a few mis-classified training points we make $\\lambda$ big. You can read more details about this loss function and some applications of the SVM on [Andrew Zisserman](https://www.robots.ox.ac.uk/~az/lectures/ml/index.html)'s [lecture slides](https://www.robots.ox.ac.uk/~az/lectures/ml/lect2.pdf)."
   ]
  },
  {
   "cell_type": "markdown",
   "metadata": {
    "collapsed": false
   },
   "source": [
    "**Write a function `loss(bw, data)` which computes the loss function above.**  You can set $\\lambda = 0.01$ to begin with.  The input `bw` should be a 1-dimensional Numpy array whose first element represents $b$ in the formula above and whose remaining elements are the entries of the vector $\\mathbf{w}$.  The input `data` should somehow contain all the vectors $\\mathbf{x}_i$ and their types $y_i$, but it's up to you exactly what kind of Python object to use.  However, you can't change the inputs of the `loss` function: it must take these two arguments only (because we're going to use it with the `scipy.optimize.minimize` function later which requires the function to be of this form)."
   ]
  },
  {
   "cell_type": "code",
   "execution_count": 0,
   "metadata": {
    "collapsed": false
   },
   "outputs": [
   ],
   "source": [
   ]
  },
  {
   "cell_type": "markdown",
   "metadata": {
    "collapsed": false
   },
   "source": [
    "# Part 5 - finding and plotting the minimizing hyperplane\n",
    "\n",
    "To find a choice of $b$ and $\\mathbf{w}$ which (approximately) minimizes the loss function defined in the last part you are going to use the [`scipy.optimize.minimize`](https://docs.scipy.org/doc/scipy/reference/generated/scipy.optimize.minimize.html) function.  **Read the documentation** by [clicking here](https://docs.scipy.org/doc/scipy/reference/generated/scipy.optimize.minimize.html) to find out about it.  Your call to `minimize` should only supply the fun, x0, and args parameters: don't change any of the other stuff.\n",
    "\n",
    "In this part you are going to practise using `minimize` on a simple example function which I have defined in the cell below.  The function `f(bw, data)` expects a one-dimensional numpy array `bw` of shape `(2,)` and a second argument `data`, again a one-dimensional array of shape `(2,)`.  \n",
    "\n",
    "**Use `scipy.optimize.minimize` to find the minimum value of `f` and the point at which that minimum occurs**.\n",
    "\n",
    "Of course, the minimum value of `f` is 2 and this is attained at the point specified by `testdata`, so you will be able to see if your `minimize` call has worked correctly.  `minimize` returns a Python object with several instance variables, most of which you can ignore: the important ones are called `fun`, which tells you the minimum value, and `x`, which tells you the point at which the minimum occurred."
   ]
  },
  {
   "cell_type": "code",
   "execution_count": 0,
   "metadata": {
    "collapsed": false
   },
   "outputs": [
   ],
   "source": [
    "import numpy as np\n",
    "from scipy.optimize import minimize\n",
    "import matplotlib.pyplot as plt"
   ]
  },
  {
   "cell_type": "code",
   "execution_count": 0,
   "metadata": {
    "collapsed": false
   },
   "outputs": [
   ],
   "source": [
    "def f(bw, data):\n",
    "    return 2 + (bw[0] - data[0]) ** 2 + (bw[1] - data[1]) ** 2\n",
    "\n",
    "testdata = np.array([1, 2])"
   ]
  },
  {
   "cell_type": "code",
   "execution_count": 0,
   "metadata": {
    "collapsed": false
   },
   "outputs": [
   ],
   "source": [
    "# use minimize here"
   ]
  },
  {
   "cell_type": "markdown",
   "metadata": {
    "collapsed": false
   },
   "source": [
    "Now that you've learned to use `scipy.optimize.minimize`, you're ready to\n",
    "**write a function `svm_demo(n, redCentre, blueCentre, spread)`** which does the following.\n",
    "\n",
    " - calls your `generate_random_data` to generate `n` random data points centred at `redCentre` and `n` random data points centred at `blueCentre` using `spread` to control how spread out they are\n",
    " - uses `minimize` to find the hyperplane $\\mathbf{w}^T \\mathbf{x} = b$ that minimizes the SVM loss function\n",
    " - plots the type 1 points (in red), the type -1 points (in blue), the minimizing hyperplane, and the two margin hyperplanes $\\mathbf{w}^T \\mathbf{x} = b \\pm 1$ all on the same axes.  Don't worry if the points aren't all outside the margins.\n",
    "\n",
    "**Call the function `svm_demo(20, [0, 1], [1, 0], s)` where `s` is just big enough so that the points aren't linearly separable.**"
   ]
  },
  {
   "cell_type": "code",
   "execution_count": 0,
   "metadata": {
    "collapsed": false
   },
   "outputs": [
   ],
   "source": [
    "def svm_demo(n, redCentre, blueCentre, spread):\n",
    "    # your code here"
   ]
  },
  {
   "cell_type": "code",
   "execution_count": 0,
   "metadata": {
    "collapsed": false
   },
   "outputs": [
   ],
   "source": [
    "# call your svm_demo function here"
   ]
  },
  {
   "cell_type": "markdown",
   "metadata": {
    "collapsed": false
   },
   "source": [
    "# Submitting your project\n",
    "\n",
    "**Make sure you have done all of the following things.**\n",
    "\n",
    "0. Included **all** group members' student numbers at the top of this notebook.\n",
    "1. Read through every part of the project to check you have answered all of it.\n",
    "2. Carefully read and followed all of the [MATH0011 project instructions](https://www.ucl.ac.uk/~ucahmto/0011/project-instructions.html).\n",
    "3. Checked that all of your code works correctly.\n",
    "\n",
    "If you have, you're ready to submit.  **One** of the group members should download the completed notebook (in CoCalc, click the File menu next to the green Save button, then click Download) and submit it on the MATH0011 Moodle.  Please submit **one .ipynb file per group.**"
   ]
  }
 ],
 "metadata": {
  "kernelspec": {
   "argv": [
    "/usr/bin/python3",
    "-m",
    "ipykernel",
    "--HistoryManager.enabled=False",
    "--matplotlib=inline",
    "-c",
    "%config InlineBackend.figure_formats = set(['retina'])\nimport matplotlib; matplotlib.rcParams['figure.figsize'] = (12, 7)",
    "-f",
    "{connection_file}"
   ],
   "display_name": "Python 3 (system-wide)",
   "env": {
   },
   "language": "python",
   "metadata": {
    "cocalc": {
     "description": "Python 3 programming language",
     "priority": 100,
     "url": "https://www.python.org/"
    }
   },
   "name": "python3",
   "resource_dir": "/ext/jupyter/kernels/python3"
  },
  "language_info": {
   "codemirror_mode": {
    "name": "ipython",
    "version": 3
   },
   "file_extension": ".py",
   "mimetype": "text/x-python",
   "name": "python",
   "nbconvert_exporter": "python",
   "pygments_lexer": "ipython3",
   "version": "3.10.12"
  }
 },
 "nbformat": 4,
 "nbformat_minor": 4
}